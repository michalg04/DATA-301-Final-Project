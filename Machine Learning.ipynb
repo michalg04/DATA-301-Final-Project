{
 "cells": [
  {
   "cell_type": "markdown",
   "metadata": {},
   "source": [
    "# Machine Learning"
   ]
  },
  {
   "cell_type": "code",
   "execution_count": 55,
   "metadata": {},
   "outputs": [
    {
     "name": "stdout",
     "output_type": "stream",
     "text": [
      "Requirement already satisfied: xgboost in /opt/conda/lib/python3.6/site-packages (0.82)\n",
      "Requirement already satisfied: numpy in /opt/conda/lib/python3.6/site-packages (from xgboost) (1.13.3)\n",
      "Requirement already satisfied: scipy in /opt/conda/lib/python3.6/site-packages (from xgboost) (1.1.0)\n",
      "Requirement already satisfied: lightgbm in /opt/conda/lib/python3.6/site-packages (2.2.3)\n",
      "Requirement already satisfied: numpy in /opt/conda/lib/python3.6/site-packages (from lightgbm) (1.13.3)\n",
      "Requirement already satisfied: scikit-learn in /opt/conda/lib/python3.6/site-packages (from lightgbm) (0.20.2)\n",
      "Requirement already satisfied: scipy in /opt/conda/lib/python3.6/site-packages (from lightgbm) (1.1.0)\n"
     ]
    },
    {
     "data": {
      "text/html": [
       "<div>\n",
       "<style scoped>\n",
       "    .dataframe tbody tr th:only-of-type {\n",
       "        vertical-align: middle;\n",
       "    }\n",
       "\n",
       "    .dataframe tbody tr th {\n",
       "        vertical-align: top;\n",
       "    }\n",
       "\n",
       "    .dataframe thead th {\n",
       "        text-align: right;\n",
       "    }\n",
       "</style>\n",
       "<table border=\"1\" class=\"dataframe\">\n",
       "  <thead>\n",
       "    <tr style=\"text-align: right;\">\n",
       "      <th></th>\n",
       "      <th>Country</th>\n",
       "      <th>Country Code</th>\n",
       "      <th>1990_P</th>\n",
       "      <th>1997_P</th>\n",
       "      <th>1998_P</th>\n",
       "      <th>1999_P</th>\n",
       "      <th>2000_P</th>\n",
       "      <th>2001_P</th>\n",
       "      <th>2002_P</th>\n",
       "      <th>2003_P</th>\n",
       "      <th>...</th>\n",
       "      <th>2016_M</th>\n",
       "      <th>latest_value_M</th>\n",
       "      <th>Government Type</th>\n",
       "      <th>Religion</th>\n",
       "      <th>Pop. Density (per sq. mi.)</th>\n",
       "      <th>Infant mortality (per 1000 births)</th>\n",
       "      <th>GDP ($ per capita)</th>\n",
       "      <th>Literacy (%)</th>\n",
       "      <th>Birthrate</th>\n",
       "      <th>Deathrate</th>\n",
       "    </tr>\n",
       "  </thead>\n",
       "  <tbody>\n",
       "    <tr>\n",
       "      <th>0</th>\n",
       "      <td>Afghanistan</td>\n",
       "      <td>AFG</td>\n",
       "      <td>3.7</td>\n",
       "      <td>NaN</td>\n",
       "      <td>NaN</td>\n",
       "      <td>NaN</td>\n",
       "      <td>NaN</td>\n",
       "      <td>NaN</td>\n",
       "      <td>NaN</td>\n",
       "      <td>NaN</td>\n",
       "      <td>...</td>\n",
       "      <td>NaN</td>\n",
       "      <td>NaN</td>\n",
       "      <td>Republic</td>\n",
       "      <td>Muslims</td>\n",
       "      <td>48.0</td>\n",
       "      <td>163.07</td>\n",
       "      <td>700.0</td>\n",
       "      <td>36.0</td>\n",
       "      <td>46.60</td>\n",
       "      <td>20.34</td>\n",
       "    </tr>\n",
       "    <tr>\n",
       "      <th>1</th>\n",
       "      <td>Angola</td>\n",
       "      <td>AGO</td>\n",
       "      <td>14.5</td>\n",
       "      <td>9.5</td>\n",
       "      <td>15.5</td>\n",
       "      <td>15.5</td>\n",
       "      <td>15.5</td>\n",
       "      <td>15.5</td>\n",
       "      <td>15.5</td>\n",
       "      <td>15.5</td>\n",
       "      <td>...</td>\n",
       "      <td>NaN</td>\n",
       "      <td>NaN</td>\n",
       "      <td>Republic</td>\n",
       "      <td>Christians</td>\n",
       "      <td>9.7</td>\n",
       "      <td>191.19</td>\n",
       "      <td>1900.0</td>\n",
       "      <td>42.0</td>\n",
       "      <td>45.11</td>\n",
       "      <td>24.20</td>\n",
       "    </tr>\n",
       "    <tr>\n",
       "      <th>2</th>\n",
       "      <td>Albania</td>\n",
       "      <td>ALB</td>\n",
       "      <td>28.8</td>\n",
       "      <td>NaN</td>\n",
       "      <td>NaN</td>\n",
       "      <td>5.2</td>\n",
       "      <td>5.2</td>\n",
       "      <td>5.7</td>\n",
       "      <td>5.7</td>\n",
       "      <td>5.7</td>\n",
       "      <td>...</td>\n",
       "      <td>NaN</td>\n",
       "      <td>22.47</td>\n",
       "      <td>Republic</td>\n",
       "      <td>Muslims</td>\n",
       "      <td>124.6</td>\n",
       "      <td>21.52</td>\n",
       "      <td>4500.0</td>\n",
       "      <td>86.5</td>\n",
       "      <td>15.11</td>\n",
       "      <td>5.22</td>\n",
       "    </tr>\n",
       "    <tr>\n",
       "      <th>3</th>\n",
       "      <td>Andorra</td>\n",
       "      <td>AND</td>\n",
       "      <td>NaN</td>\n",
       "      <td>7.1</td>\n",
       "      <td>7.1</td>\n",
       "      <td>7.1</td>\n",
       "      <td>7.1</td>\n",
       "      <td>14.3</td>\n",
       "      <td>14.3</td>\n",
       "      <td>14.3</td>\n",
       "      <td>...</td>\n",
       "      <td>NaN</td>\n",
       "      <td>NaN</td>\n",
       "      <td>Constitutional Monarchy</td>\n",
       "      <td>Christians</td>\n",
       "      <td>152.1</td>\n",
       "      <td>4.05</td>\n",
       "      <td>19000.0</td>\n",
       "      <td>100.0</td>\n",
       "      <td>8.71</td>\n",
       "      <td>6.25</td>\n",
       "    </tr>\n",
       "    <tr>\n",
       "      <th>4</th>\n",
       "      <td>United Arab Emirates</td>\n",
       "      <td>ARE</td>\n",
       "      <td>0.0</td>\n",
       "      <td>0.0</td>\n",
       "      <td>0.0</td>\n",
       "      <td>0.0</td>\n",
       "      <td>0.0</td>\n",
       "      <td>0.0</td>\n",
       "      <td>0.0</td>\n",
       "      <td>0.0</td>\n",
       "      <td>...</td>\n",
       "      <td>NaN</td>\n",
       "      <td>NaN</td>\n",
       "      <td>Absolute Monarchy</td>\n",
       "      <td>Muslims</td>\n",
       "      <td>31.4</td>\n",
       "      <td>14.51</td>\n",
       "      <td>23200.0</td>\n",
       "      <td>77.9</td>\n",
       "      <td>18.96</td>\n",
       "      <td>4.40</td>\n",
       "    </tr>\n",
       "  </tbody>\n",
       "</table>\n",
       "<p>5 rows × 53 columns</p>\n",
       "</div>"
      ],
      "text/plain": [
       "                Country Country Code  1990_P  1997_P  1998_P  1999_P  2000_P  \\\n",
       "0           Afghanistan          AFG     3.7     NaN     NaN     NaN     NaN   \n",
       "1                Angola          AGO    14.5     9.5    15.5    15.5    15.5   \n",
       "2               Albania          ALB    28.8     NaN     NaN     5.2     5.2   \n",
       "3               Andorra          AND     NaN     7.1     7.1     7.1     7.1   \n",
       "4  United Arab Emirates          ARE     0.0     0.0     0.0     0.0     0.0   \n",
       "\n",
       "   2001_P  2002_P  2003_P    ...      2016_M  latest_value_M  \\\n",
       "0     NaN     NaN     NaN    ...         NaN             NaN   \n",
       "1    15.5    15.5    15.5    ...         NaN             NaN   \n",
       "2     5.7     5.7     5.7    ...         NaN           22.47   \n",
       "3    14.3    14.3    14.3    ...         NaN             NaN   \n",
       "4     0.0     0.0     0.0    ...         NaN             NaN   \n",
       "\n",
       "           Government Type    Religion  Pop. Density (per sq. mi.)  \\\n",
       "0                 Republic     Muslims                        48.0   \n",
       "1                 Republic  Christians                         9.7   \n",
       "2                 Republic     Muslims                       124.6   \n",
       "3  Constitutional Monarchy  Christians                       152.1   \n",
       "4        Absolute Monarchy     Muslims                        31.4   \n",
       "\n",
       "   Infant mortality (per 1000 births)  GDP ($ per capita)  Literacy (%)  \\\n",
       "0                              163.07               700.0          36.0   \n",
       "1                              191.19              1900.0          42.0   \n",
       "2                               21.52              4500.0          86.5   \n",
       "3                                4.05             19000.0         100.0   \n",
       "4                               14.51             23200.0          77.9   \n",
       "\n",
       "   Birthrate  Deathrate  \n",
       "0      46.60      20.34  \n",
       "1      45.11      24.20  \n",
       "2      15.11       5.22  \n",
       "3       8.71       6.25  \n",
       "4      18.96       4.40  \n",
       "\n",
       "[5 rows x 53 columns]"
      ]
     },
     "execution_count": 55,
     "metadata": {},
     "output_type": "execute_result"
    }
   ],
   "source": [
    "import numpy as np\n",
    "import pandas as pd\n",
    "from sklearn.feature_extraction import DictVectorizer\n",
    "from sklearn import preprocessing\n",
    "from sklearn.pipeline import Pipeline\n",
    "from sklearn.model_selection import cross_val_score\n",
    "from sklearn.neighbors import KNeighborsRegressor\n",
    "from sklearn import neighbors, linear_model, ensemble\n",
    "import itertools\n",
    "import warnings; warnings.simplefilter('ignore')\n",
    "import sys\n",
    "!{sys.executable} -m pip install xgboost\n",
    "import xgboost as xgb\n",
    "!{sys.executable} -m pip install lightgbm\n",
    "import lightgbm as lgb\n",
    "%matplotlib inline\n",
    "\n",
    "final = pd.read_csv(\"~/data301/share/Brooke_Michal/final_data.csv\")\n",
    "final.head()"
   ]
  },
  {
   "cell_type": "markdown",
   "metadata": {},
   "source": [
    "**Predicting Proportion of Women in Parliament:** "
   ]
  },
  {
   "cell_type": "code",
   "execution_count": 56,
   "metadata": {},
   "outputs": [],
   "source": [
    "features_options = ['Government Type','Religion', \n",
    "        'Infant mortality (per 1000 births)', 'Literacy (%)',\n",
    "        'Birthrate', 'Deathrate']"
   ]
  },
  {
   "cell_type": "code",
   "execution_count": 57,
   "metadata": {},
   "outputs": [],
   "source": [
    "final_clean = final[features_options].dropna()"
   ]
  },
  {
   "cell_type": "code",
   "execution_count": 58,
   "metadata": {},
   "outputs": [],
   "source": [
    "# creating a power set of all possible feature combinations\n",
    "features = []\n",
    "for i in range(1, len(features_options)+1):\n",
    "    ls = [list(x) for x in itertools.combinations(features_options, i)]\n",
    "    features.extend(ls)"
   ]
  },
  {
   "cell_type": "code",
   "execution_count": 59,
   "metadata": {},
   "outputs": [],
   "source": [
    "y = final[\"2018_P\"].loc[final_clean.index]\n",
    "vec = DictVectorizer(sparse=False)\n",
    "scaler = preprocessing.StandardScaler()"
   ]
  },
  {
   "cell_type": "code",
   "execution_count": 60,
   "metadata": {},
   "outputs": [],
   "source": [
    "# calcuate the error for all possible feature combinations\n",
    "def get_best_features(model):\n",
    "    \"\"\" returns a touple with the best feautres \n",
    "    and the smallest cross validation error of those features\"\"\"\n",
    "    \n",
    "    errors = {}\n",
    "    pipeline = Pipeline([(\"vectorizer\", vec), (\"scaler\", scaler), (\"fit\", model)])\n",
    "\n",
    "    for i in range(0, len(features)):\n",
    "        X_dict = final_clean[features[i]].to_dict(orient=\"records\")\n",
    "        scores = cross_val_score(pipeline, X_dict, y, \n",
    "                         cv=5, scoring=\"neg_mean_squared_error\")\n",
    "        errors.update({str(features[i]):np.sqrt(np.mean(-scores))})\n",
    "        \n",
    "    return errors"
   ]
  },
  {
   "cell_type": "markdown",
   "metadata": {},
   "source": [
    "**K Nearest Neighbors Regressor:**"
   ]
  },
  {
   "cell_type": "code",
   "execution_count": 61,
   "metadata": {},
   "outputs": [
    {
     "data": {
      "text/plain": [
       "(['Religion',\n",
       "  'Infant mortality (per 1000 births)',\n",
       "  'Literacy (%)',\n",
       "  'Birthrate'],\n",
       " 11.100913305601814)"
      ]
     },
     "execution_count": 61,
     "metadata": {},
     "output_type": "execute_result"
    }
   ],
   "source": [
    "errors_knn = get_best_features(neighbors.KNeighborsRegressor(n_neighbors=10))\n",
    "best_features_knn = eval(min(errors_knn, key=errors_knn.get))\n",
    "(best_features_knn, errors_knn[str(best_features_knn)])"
   ]
  },
  {
   "cell_type": "markdown",
   "metadata": {},
   "source": [
    "**Linear Regression:**"
   ]
  },
  {
   "cell_type": "code",
   "execution_count": 62,
   "metadata": {},
   "outputs": [
    {
     "data": {
      "text/plain": [
       "(['Religion', 'Infant mortality (per 1000 births)', 'Birthrate'],\n",
       " 11.332476133079059)"
      ]
     },
     "execution_count": 62,
     "metadata": {},
     "output_type": "execute_result"
    }
   ],
   "source": [
    "errors_lr = get_best_features(linear_model.LinearRegression())\n",
    "best_features_lr = eval(min(errors_lr, key=errors_lr.get))\n",
    "(best_features_lr, errors_lr[str(best_features_lr)])"
   ]
  },
  {
   "cell_type": "markdown",
   "metadata": {},
   "source": [
    "**Bagging Regressor:**"
   ]
  },
  {
   "cell_type": "code",
   "execution_count": 63,
   "metadata": {},
   "outputs": [
    {
     "data": {
      "text/plain": [
       "(['Government Type', 'Religion'], 11.377689091645527)"
      ]
     },
     "execution_count": 63,
     "metadata": {},
     "output_type": "execute_result"
    }
   ],
   "source": [
    "errors_bagging = get_best_features(ensemble.BaggingRegressor())\n",
    "best_features_bagging = eval(min(errors_bagging, key=errors_bagging.get))\n",
    "(best_features_bagging, errors_bagging[str(best_features_bagging)])"
   ]
  },
  {
   "cell_type": "markdown",
   "metadata": {},
   "source": [
    "**XGBoost Regressor:**"
   ]
  },
  {
   "cell_type": "code",
   "execution_count": 64,
   "metadata": {},
   "outputs": [
    {
     "data": {
      "text/plain": [
       "(['Religion'], 11.355423511376603)"
      ]
     },
     "execution_count": 64,
     "metadata": {},
     "output_type": "execute_result"
    }
   ],
   "source": [
    "errors_xgb = get_best_features(xgb.XGBRegressor())\n",
    "best_features_xgb = eval(min(errors_xgb, key=errors_xgb.get))\n",
    "(best_features_xgb, errors_xgb[str(best_features_xgb)])"
   ]
  },
  {
   "cell_type": "markdown",
   "metadata": {},
   "source": [
    "**LightGBM Regressor:**"
   ]
  },
  {
   "cell_type": "code",
   "execution_count": 65,
   "metadata": {},
   "outputs": [
    {
     "data": {
      "text/plain": [
       "(['Government Type', 'Religion'], 11.272798882994932)"
      ]
     },
     "execution_count": 65,
     "metadata": {},
     "output_type": "execute_result"
    }
   ],
   "source": [
    "errors_lgb = get_best_features(lgb.LGBMRegressor())\n",
    "best_features_lgb = eval(min(errors_lgb, key=errors_lgb.get))\n",
    "(best_features_lgb, errors_lgb[str(best_features_lgb)])"
   ]
  },
  {
   "cell_type": "code",
   "execution_count": 66,
   "metadata": {},
   "outputs": [],
   "source": [
    "from sklearn.base import BaseEstimator, RegressorMixin\n",
    "from sklearn.utils.validation import check_X_y, check_array, check_is_fitted\n",
    "\n",
    "class RegressionEnsembler(BaseEstimator, RegressorMixin):\n",
    "    \"\"\"Creates an ensemble model out of a collection of individual estimators\n",
    "    \n",
    "    Args:\n",
    "      estimators: A list containing the individual estimators.\n",
    "    \"\"\"\n",
    "    \n",
    "    def __init__(self, estimators):\n",
    "        self.estimators = estimators\n",
    "        \n",
    "    def fit(self, X, y):\n",
    "        # check that X and y have the correct shape\n",
    "        X, y = check_X_y(X, y)\n",
    "        \n",
    "        # store the training features and the labels\n",
    "        self.X_ = X\n",
    "        self.y_ = y\n",
    "        \n",
    "        # call the fit method of each of the estimators\n",
    "        for estimator in self.estimators:\n",
    "            estimator.fit(X, y)\n",
    "        return self\n",
    "    \n",
    "    def predict(self, X):\n",
    "        # check that fit has been called\n",
    "        check_is_fitted(self, ['X_', 'y_'])\n",
    "        \n",
    "        # check that X has the right form\n",
    "        X = check_array(X)\n",
    "        \n",
    "        # calculate predictions from the estimators\n",
    "        predictions = []\n",
    "        for estimator in self.estimators:\n",
    "            predictions.append(estimator.predict(X))\n",
    "        Y_ = np.column_stack(predictions)\n",
    "        \n",
    "        # return predictions\n",
    "        return Y_.mean(axis=1)"
   ]
  },
  {
   "cell_type": "markdown",
   "metadata": {},
   "source": [
    "The best models from above are KNeighborsRegressor and LGBMRegressor, so we will explore their combination."
   ]
  },
  {
   "cell_type": "code",
   "execution_count": 67,
   "metadata": {},
   "outputs": [
    {
     "data": {
      "text/plain": [
       "(['Religion',\n",
       "  'Infant mortality (per 1000 births)',\n",
       "  'Literacy (%)',\n",
       "  'Birthrate'],\n",
       " 11.18278268339431)"
      ]
     },
     "execution_count": 67,
     "metadata": {},
     "output_type": "execute_result"
    }
   ],
   "source": [
    "errors_ensembler = get_best_features(\n",
    "    RegressionEnsembler([lgb.LGBMRegressor(), \n",
    "                         neighbors.KNeighborsRegressor(n_neighbors=10)]))\n",
    "best_features_ensembler = eval(min(errors_ensembler, key=errors_ensembler.get))\n",
    "(best_features_ensembler, errors_ensembler[str(best_features_ensembler)])"
   ]
  },
  {
   "cell_type": "markdown",
   "metadata": {},
   "source": [
    "K Nearest Neighbors alone returned the lowest RMSE overall.\n",
    "Based upon the rmse of a model, we found that religion, infant mortality, literacy, and the birthrate of a country are the best predictors of the proportion of women will be in national parliament. It's also interesting to note that religion was one of the optimal features in every model we tested. "
   ]
  },
  {
   "cell_type": "markdown",
   "metadata": {},
   "source": [
    "**Scalers and Distance Metrics:**\n",
    "Now we will explore what combination of distance metric and scalers that will produce the lowest error with our chosen features and model."
   ]
  },
  {
   "cell_type": "code",
   "execution_count": 68,
   "metadata": {},
   "outputs": [],
   "source": [
    "distance_metrics = [\"euclidean\", \"manhattan\", \"chebyshev\", \"minkowski\"]\n",
    "scalers = [preprocessing.StandardScaler(), preprocessing.Normalizer(), \n",
    "           preprocessing.MinMaxScaler(), preprocessing.RobustScaler(),\n",
    "           preprocessing.QuantileTransformer()]"
   ]
  },
  {
   "cell_type": "code",
   "execution_count": 69,
   "metadata": {},
   "outputs": [],
   "source": [
    "errors = {}\n",
    "for i in range(0,len(distance_metrics)):\n",
    "    for j in range(0, len(scalers)):\n",
    "        X_dict = final_clean[best_features_knn].to_dict(orient=\"records\")\n",
    "        scaler = scalers[j]\n",
    "        model = KNeighborsRegressor(n_neighbors=10, metric = distance_metrics[i])\n",
    "        pipeline = Pipeline([(\"vectorizer\", vec),\n",
    "                             (\"scaler\", scaler), (\"fit\", model)])\n",
    "        scores = cross_val_score(pipeline, X_dict, y, cv=5, \n",
    "                             scoring=\"neg_mean_squared_error\")\n",
    "        errors.update(\n",
    "            {(distance_metrics[i], scalers[j]):np.sqrt(np.mean(-scores))})"
   ]
  },
  {
   "cell_type": "code",
   "execution_count": 70,
   "metadata": {},
   "outputs": [
    {
     "data": {
      "text/plain": [
       "('euclidean', StandardScaler(copy=True, with_mean=True, with_std=True))"
      ]
     },
     "execution_count": 70,
     "metadata": {},
     "output_type": "execute_result"
    }
   ],
   "source": [
    "# find the smallest error based on distance metric and scaler\n",
    "min(errors, key=errors.get)"
   ]
  },
  {
   "cell_type": "code",
   "execution_count": 71,
   "metadata": {},
   "outputs": [],
   "source": [
    "X_train_dict = final_clean[best_features_knn].to_dict(orient=\"records\")\n",
    "scaler = preprocessing.StandardScaler()"
   ]
  },
  {
   "cell_type": "code",
   "execution_count": 72,
   "metadata": {},
   "outputs": [],
   "source": [
    "def get_val_error(X_train_dict, y, k):    \n",
    "    model = KNeighborsRegressor(n_neighbors=k, metric = 'euclidean')\n",
    "    pipeline = Pipeline([(\"vectorizer\", vec), (\"scaler\", scaler), (\"fit\", model)])\n",
    "    scores = cross_val_score(pipeline, X_train_dict, y, cv=10, \n",
    "                         scoring=\"neg_mean_squared_error\")\n",
    "    rmse = np.sqrt(np.mean(-scores))\n",
    "    return rmse"
   ]
  },
  {
   "cell_type": "code",
   "execution_count": 73,
   "metadata": {},
   "outputs": [],
   "source": [
    "vec.fit(X_train_dict)\n",
    "X_train = vec.transform(X_train_dict)\n",
    "scaler.fit(X_train)\n",
    "X_train_sc = scaler.transform(X_train)"
   ]
  },
  {
   "cell_type": "code",
   "execution_count": 74,
   "metadata": {},
   "outputs": [],
   "source": [
    "def get_training_error(X_train_sc, y_train, k):\n",
    "    model = KNeighborsRegressor(n_neighbors=k, metric = \"manhattan\")\n",
    "    model.fit(X_train_sc, y_train)\n",
    "    y_train_pred = model.predict(X_train_sc)\n",
    "    mse = ((y_train - y_train_pred) ** 2).mean()\n",
    "    rmse = np.sqrt(mse)\n",
    "    return rmse"
   ]
  },
  {
   "cell_type": "code",
   "execution_count": 75,
   "metadata": {},
   "outputs": [
    {
     "data": {
      "text/plain": [
       "<matplotlib.axes._subplots.AxesSubplot at 0x7f15af7c0c50>"
      ]
     },
     "execution_count": 75,
     "metadata": {},
     "output_type": "execute_result"
    },
    {
     "data": {
      "image/png": "[encoded data removed]",
      "text/plain": [
       "<Figure size 432x288 with 1 Axes>"
      ]
     },
     "metadata": {
      "needs_background": "light"
     },
     "output_type": "display_data"
    }
   ],
   "source": [
    "# plot training and validation error\n",
    "k = pd.Series(range(1,100))\n",
    "k.index = range(1,100)\n",
    "val_error = k.apply(lambda k: get_val_error(X_train_dict, y, k))\n",
    "val_error.plot.line()\n",
    "training_error = k.apply(lambda k: get_training_error(X_train_sc, y, k))\n",
    "training_error.plot.line(title = \"Training Error vs. Validation Error\")"
   ]
  },
  {
   "cell_type": "code",
   "execution_count": 76,
   "metadata": {},
   "outputs": [
    {
     "data": {
      "text/plain": [
       "8"
      ]
     },
     "execution_count": 76,
     "metadata": {},
     "output_type": "execute_result"
    }
   ],
   "source": [
    "# best K will have smallest error\n",
    "val_error.idxmin()"
   ]
  },
  {
   "cell_type": "markdown",
   "metadata": {},
   "source": [
    "Let's see what countries have missing values for proportion of women in parliament in 2018 so we can predict the unknowns using our chosen model. "
   ]
  },
  {
   "cell_type": "code",
   "execution_count": 77,
   "metadata": {},
   "outputs": [
    {
     "data": {
      "text/html": [
       "<div>\n",
       "<style scoped>\n",
       "    .dataframe tbody tr th:only-of-type {\n",
       "        vertical-align: middle;\n",
       "    }\n",
       "\n",
       "    .dataframe tbody tr th {\n",
       "        vertical-align: top;\n",
       "    }\n",
       "\n",
       "    .dataframe thead th {\n",
       "        text-align: right;\n",
       "    }\n",
       "</style>\n",
       "<table border=\"1\" class=\"dataframe\">\n",
       "  <thead>\n",
       "    <tr style=\"text-align: right;\">\n",
       "      <th></th>\n",
       "      <th>Country</th>\n",
       "      <th>Country Code</th>\n",
       "      <th>1990_P</th>\n",
       "      <th>1997_P</th>\n",
       "      <th>1998_P</th>\n",
       "      <th>1999_P</th>\n",
       "      <th>2000_P</th>\n",
       "      <th>2001_P</th>\n",
       "      <th>2002_P</th>\n",
       "      <th>2003_P</th>\n",
       "      <th>...</th>\n",
       "      <th>2016_M</th>\n",
       "      <th>latest_value_M</th>\n",
       "      <th>Government Type</th>\n",
       "      <th>Religion</th>\n",
       "      <th>Pop. Density (per sq. mi.)</th>\n",
       "      <th>Infant mortality (per 1000 births)</th>\n",
       "      <th>GDP ($ per capita)</th>\n",
       "      <th>Literacy (%)</th>\n",
       "      <th>Birthrate</th>\n",
       "      <th>Deathrate</th>\n",
       "    </tr>\n",
       "  </thead>\n",
       "  <tbody>\n",
       "    <tr>\n",
       "      <th>135</th>\n",
       "      <td>Palestine</td>\n",
       "      <td>PSE</td>\n",
       "      <td>NaN</td>\n",
       "      <td>NaN</td>\n",
       "      <td>NaN</td>\n",
       "      <td>NaN</td>\n",
       "      <td>NaN</td>\n",
       "      <td>NaN</td>\n",
       "      <td>NaN</td>\n",
       "      <td>NaN</td>\n",
       "      <td>...</td>\n",
       "      <td>NaN</td>\n",
       "      <td>15.42</td>\n",
       "      <td>Republic</td>\n",
       "      <td>Muslims</td>\n",
       "      <td>4388.7</td>\n",
       "      <td>42.55</td>\n",
       "      <td>1400.0</td>\n",
       "      <td>96</td>\n",
       "      <td>71.12</td>\n",
       "      <td>7.72</td>\n",
       "    </tr>\n",
       "  </tbody>\n",
       "</table>\n",
       "<p>1 rows × 53 columns</p>\n",
       "</div>"
      ],
      "text/plain": [
       "       Country Country Code  1990_P  1997_P  1998_P  1999_P  2000_P  2001_P  \\\n",
       "135  Palestine          PSE     NaN     NaN     NaN     NaN     NaN     NaN   \n",
       "\n",
       "     2002_P  2003_P    ...      2016_M  latest_value_M  Government Type  \\\n",
       "135     NaN     NaN    ...         NaN           15.42         Republic   \n",
       "\n",
       "     Religion  Pop. Density (per sq. mi.)  Infant mortality (per 1000 births)  \\\n",
       "135   Muslims                      4388.7                               42.55   \n",
       "\n",
       "     GDP ($ per capita)  Literacy (%)  Birthrate  Deathrate  \n",
       "135              1400.0            96      71.12       7.72  \n",
       "\n",
       "[1 rows x 53 columns]"
      ]
     },
     "execution_count": 77,
     "metadata": {},
     "output_type": "execute_result"
    }
   ],
   "source": [
    "unknown = final[final[\"2018_P\"].isna()]\n",
    "unknown[\"Literacy (%)\"] = 96\n",
    "unknown"
   ]
  },
  {
   "cell_type": "markdown",
   "metadata": {},
   "source": [
    "Source for litreracy percentage above: https://fred.stlouisfed.org/series/SEADTLITRZSPSE"
   ]
  },
  {
   "cell_type": "code",
   "execution_count": 78,
   "metadata": {},
   "outputs": [],
   "source": [
    "X_train_dict = final_clean[best_features_knn].to_dict(orient=\"records\")\n",
    "\n",
    "scaler = preprocessing.StandardScaler()\n",
    "model = KNeighborsRegressor(n_neighbors=8, metric = 'euclidean')\n",
    "\n",
    "X_new_dict = unknown[best_features_knn].to_dict(orient=\"records\")\n",
    "vec.fit(X_train_dict)\n",
    "X_train = vec.transform(X_train_dict)\n",
    "X_new = vec.transform(X_new_dict)\n",
    "\n",
    "scaler.fit(X_train)\n",
    "X_train_sc = scaler.transform(X_train)\n",
    "X_new_sc = scaler.transform(X_new)\n",
    "\n",
    "model.fit(X_train_sc, y)\n",
    "\n",
    "unknown[\"2018_P\"] = model.predict(X_new_sc)"
   ]
  },
  {
   "cell_type": "code",
   "execution_count": 79,
   "metadata": {},
   "outputs": [
    {
     "data": {
      "text/plain": [
       "135    14.2875\n",
       "Name: 2018_P, dtype: float64"
      ]
     },
     "execution_count": 79,
     "metadata": {},
     "output_type": "execute_result"
    }
   ],
   "source": [
    "unknown[\"2018_P\"]"
   ]
  },
  {
   "cell_type": "markdown",
   "metadata": {},
   "source": [
    "The model wasn't too far off! Our model predicted that 14.2875% of the national parliemnt of Palestinian territories is composed of women and the actual to percent of women in the national parliament is 12.9% in Palestine. \n",
    "Source: http://palestine.unwomen.org/en/what-we-do/leadership-and-political-participation/facts-and-figures"
   ]
  },
  {
   "cell_type": "markdown",
   "metadata": {},
   "source": [
    "# Exploring Proportion of Women in Parliament Statistic Further"
   ]
  },
  {
   "cell_type": "markdown",
   "metadata": {},
   "source": [
    "Can we predict a country's government type by the proportion of women in their national parliament?"
   ]
  },
  {
   "cell_type": "code",
   "execution_count": 80,
   "metadata": {},
   "outputs": [
    {
     "data": {
      "text/html": [
       "<div>\n",
       "<style scoped>\n",
       "    .dataframe tbody tr th:only-of-type {\n",
       "        vertical-align: middle;\n",
       "    }\n",
       "\n",
       "    .dataframe tbody tr th {\n",
       "        vertical-align: top;\n",
       "    }\n",
       "\n",
       "    .dataframe thead th {\n",
       "        text-align: right;\n",
       "    }\n",
       "</style>\n",
       "<table border=\"1\" class=\"dataframe\">\n",
       "  <thead>\n",
       "    <tr style=\"text-align: right;\">\n",
       "      <th></th>\n",
       "      <th>Country</th>\n",
       "      <th>Country Code</th>\n",
       "      <th>1990_P</th>\n",
       "      <th>1997_P</th>\n",
       "      <th>1998_P</th>\n",
       "      <th>1999_P</th>\n",
       "      <th>2000_P</th>\n",
       "      <th>2001_P</th>\n",
       "      <th>2002_P</th>\n",
       "      <th>2003_P</th>\n",
       "      <th>...</th>\n",
       "      <th>2016_M</th>\n",
       "      <th>latest_value_M</th>\n",
       "      <th>Government Type</th>\n",
       "      <th>Religion</th>\n",
       "      <th>Pop. Density (per sq. mi.)</th>\n",
       "      <th>Infant mortality (per 1000 births)</th>\n",
       "      <th>GDP ($ per capita)</th>\n",
       "      <th>Literacy (%)</th>\n",
       "      <th>Birthrate</th>\n",
       "      <th>Deathrate</th>\n",
       "    </tr>\n",
       "  </thead>\n",
       "  <tbody>\n",
       "    <tr>\n",
       "      <th>92</th>\n",
       "      <td>Libya</td>\n",
       "      <td>LBY</td>\n",
       "      <td>NaN</td>\n",
       "      <td>NaN</td>\n",
       "      <td>NaN</td>\n",
       "      <td>NaN</td>\n",
       "      <td>NaN</td>\n",
       "      <td>NaN</td>\n",
       "      <td>NaN</td>\n",
       "      <td>NaN</td>\n",
       "      <td>...</td>\n",
       "      <td>NaN</td>\n",
       "      <td>NaN</td>\n",
       "      <td>NaN</td>\n",
       "      <td>Muslims</td>\n",
       "      <td>3.4</td>\n",
       "      <td>24.6</td>\n",
       "      <td>6400.0</td>\n",
       "      <td>82.6</td>\n",
       "      <td>26.49</td>\n",
       "      <td>3.48</td>\n",
       "    </tr>\n",
       "  </tbody>\n",
       "</table>\n",
       "<p>1 rows × 53 columns</p>\n",
       "</div>"
      ],
      "text/plain": [
       "   Country Country Code  1990_P  1997_P  1998_P  1999_P  2000_P  2001_P  \\\n",
       "92   Libya          LBY     NaN     NaN     NaN     NaN     NaN     NaN   \n",
       "\n",
       "    2002_P  2003_P    ...      2016_M  latest_value_M  Government Type  \\\n",
       "92     NaN     NaN    ...         NaN             NaN              NaN   \n",
       "\n",
       "    Religion  Pop. Density (per sq. mi.)  Infant mortality (per 1000 births)  \\\n",
       "92   Muslims                         3.4                                24.6   \n",
       "\n",
       "    GDP ($ per capita)  Literacy (%)  Birthrate  Deathrate  \n",
       "92              6400.0          82.6      26.49       3.48  \n",
       "\n",
       "[1 rows x 53 columns]"
      ]
     },
     "execution_count": 80,
     "metadata": {},
     "output_type": "execute_result"
    }
   ],
   "source": [
    "final[final[\"Government Type\"].isna()]"
   ]
  },
  {
   "cell_type": "markdown",
   "metadata": {},
   "source": [
    "Since Libya's government type is unknown, we will use the proportion of women in their national parliament over the past 10 years to predict Libya's government type."
   ]
  },
  {
   "cell_type": "code",
   "execution_count": 81,
   "metadata": {},
   "outputs": [
    {
     "data": {
      "text/plain": [
       "array(['Republic'], dtype=object)"
      ]
     },
     "execution_count": 81,
     "metadata": {},
     "output_type": "execute_result"
    }
   ],
   "source": [
    "features = ['2008_P', '2009_P', '2010_P', '2011_P', '2012_P', '2013_P',\n",
    "       '2014_P', '2015_P', '2016_P', '2017_P', '2018_P']\n",
    "\n",
    "features.append(\"Government Type\")\n",
    "final_clean = final[features].dropna()\n",
    "y_train = final_clean[\"Government Type\"]\n",
    "features.remove(\"Government Type\")\n",
    "X_train = final_clean[features]\n",
    "\n",
    "scaler = preprocessing.StandardScaler()\n",
    "scaler.fit(X_train)\n",
    "X_train_sc = scaler.transform(X_train)\n",
    "\n",
    "model = KNeighborsClassifier(n_neighbors=10)\n",
    "model.fit(X_train_sc, y_train)\n",
    "\n",
    "#2011_P is nan, so filled it with 2010_P value\n",
    "x_new = final[final[\"Country\"] == \"Libya\"][features].fillna(7.7)\n",
    "x_new_sc = scaler.transform(x_new)\n",
    "\n",
    "model.predict(x_new_sc)"
   ]
  },
  {
   "cell_type": "markdown",
   "metadata": {},
   "source": [
    "Libya currently has a transitional government following a civil war. It has bounced between a presidential republic and a constitutional republic, so this is a reasonable prediction. This further emphasizes how country to country variation affects the statistics we're investigating. "
   ]
  },
  {
   "cell_type": "markdown",
   "metadata": {},
   "source": [
    "How did the classification model do overall? "
   ]
  },
  {
   "cell_type": "code",
   "execution_count": 82,
   "metadata": {},
   "outputs": [
    {
     "data": {
      "text/plain": [
       "(0.689630412282215, 0.75362243120863803, 0.89433333333333331)"
      ]
     },
     "execution_count": 82,
     "metadata": {},
     "output_type": "execute_result"
    }
   ],
   "source": [
    "(cross_val_score(model,\n",
    "                   X_train, y_train, \n",
    "                    cv=5, scoring= \"accuracy\").mean(),\n",
    "cross_val_score(model,\n",
    "                   X_train, y_train == \"Republic\", \n",
    "                    cv=5, scoring= \"precision\").mean(),\n",
    "cross_val_score(model,\n",
    "                   X_train, y_train == \"Republic\", \n",
    "                    cv=5, scoring= \"recall\").mean())"
   ]
  },
  {
   "cell_type": "markdown",
   "metadata": {},
   "source": [
    "An accuracy score of 0.689 means that our model predictded the correct form of government for a country 68.9% of the time. The precision score of 0.754 means that 75.4% of the countries that were predicted to be a republic, actually were a republic. Finally, a recall score of 0.894 means that 89.4% of the coutnries that have a republic form of government, were predicted to have a republic. "
   ]
  },
  {
   "cell_type": "markdown",
   "metadata": {},
   "source": [
    "**Predicting women in senior and middle managment positions from the amount of women in national parliaments:**"
   ]
  },
  {
   "cell_type": "markdown",
   "metadata": {},
   "source": [
    "Note that we only have 70 observations (after accounting for missing values) to train this model, so the small sample size may affect the results."
   ]
  },
  {
   "cell_type": "code",
   "execution_count": 83,
   "metadata": {},
   "outputs": [],
   "source": [
    "known_manag = final[~final[\"latest_value_M\"].isna()]\n",
    "unknown_manag = final[final[\"latest_value_M\"].isna()]"
   ]
  },
  {
   "cell_type": "code",
   "execution_count": 84,
   "metadata": {},
   "outputs": [],
   "source": [
    "features = ['2008_P', '2009_P', '2010_P', '2011_P', '2012_P', '2013_P',\n",
    "       '2014_P', '2015_P', '2016_P', '2017_P', '2018_P']\n",
    "\n",
    "final_clean = known_manag[features].dropna()\n",
    "y_train = known_manag[\"latest_value_M\"].loc[final_clean.index]\n",
    "X_train = final_clean[features]\n",
    "\n",
    "scaler = preprocessing.StandardScaler()\n",
    "scaler.fit(X_train)\n",
    "X_train_sc = scaler.transform(X_train)\n",
    "\n",
    "model = KNeighborsRegressor(n_neighbors=30, metric = \"manhattan\")\n",
    "model.fit(X_train_sc, y_train)\n",
    "\n",
    "x_new = unknown_manag[features].dropna()\n",
    "x_new_sc = scaler.transform(x_new)\n",
    "\n",
    "unknown_manag[\"latest_value_M\"].loc[x_new.index] = model.predict(x_new_sc)"
   ]
  },
  {
   "cell_type": "code",
   "execution_count": 85,
   "metadata": {},
   "outputs": [
    {
     "data": {
      "text/html": [
       "<div>\n",
       "<style scoped>\n",
       "    .dataframe tbody tr th:only-of-type {\n",
       "        vertical-align: middle;\n",
       "    }\n",
       "\n",
       "    .dataframe tbody tr th {\n",
       "        vertical-align: top;\n",
       "    }\n",
       "\n",
       "    .dataframe thead th {\n",
       "        text-align: right;\n",
       "    }\n",
       "</style>\n",
       "<table border=\"1\" class=\"dataframe\">\n",
       "  <thead>\n",
       "    <tr style=\"text-align: right;\">\n",
       "      <th></th>\n",
       "      <th>Country</th>\n",
       "      <th>Country Code</th>\n",
       "      <th>1990_P</th>\n",
       "      <th>1997_P</th>\n",
       "      <th>1998_P</th>\n",
       "      <th>1999_P</th>\n",
       "      <th>2000_P</th>\n",
       "      <th>2001_P</th>\n",
       "      <th>2002_P</th>\n",
       "      <th>2003_P</th>\n",
       "      <th>...</th>\n",
       "      <th>2016_M</th>\n",
       "      <th>latest_value_M</th>\n",
       "      <th>Government Type</th>\n",
       "      <th>Religion</th>\n",
       "      <th>Pop. Density (per sq. mi.)</th>\n",
       "      <th>Infant mortality (per 1000 births)</th>\n",
       "      <th>GDP ($ per capita)</th>\n",
       "      <th>Literacy (%)</th>\n",
       "      <th>Birthrate</th>\n",
       "      <th>Deathrate</th>\n",
       "    </tr>\n",
       "  </thead>\n",
       "  <tbody>\n",
       "    <tr>\n",
       "      <th>0</th>\n",
       "      <td>Afghanistan</td>\n",
       "      <td>AFG</td>\n",
       "      <td>3.7</td>\n",
       "      <td>NaN</td>\n",
       "      <td>NaN</td>\n",
       "      <td>NaN</td>\n",
       "      <td>NaN</td>\n",
       "      <td>NaN</td>\n",
       "      <td>NaN</td>\n",
       "      <td>NaN</td>\n",
       "      <td>...</td>\n",
       "      <td>NaN</td>\n",
       "      <td>32.168667</td>\n",
       "      <td>Republic</td>\n",
       "      <td>Muslims</td>\n",
       "      <td>48.0</td>\n",
       "      <td>163.07</td>\n",
       "      <td>700.0</td>\n",
       "      <td>36.0</td>\n",
       "      <td>46.60</td>\n",
       "      <td>20.34</td>\n",
       "    </tr>\n",
       "    <tr>\n",
       "      <th>1</th>\n",
       "      <td>Angola</td>\n",
       "      <td>AGO</td>\n",
       "      <td>14.5</td>\n",
       "      <td>9.5</td>\n",
       "      <td>15.5</td>\n",
       "      <td>15.5</td>\n",
       "      <td>15.5</td>\n",
       "      <td>15.5</td>\n",
       "      <td>15.5</td>\n",
       "      <td>15.5</td>\n",
       "      <td>...</td>\n",
       "      <td>NaN</td>\n",
       "      <td>32.326333</td>\n",
       "      <td>Republic</td>\n",
       "      <td>Christians</td>\n",
       "      <td>9.7</td>\n",
       "      <td>191.19</td>\n",
       "      <td>1900.0</td>\n",
       "      <td>42.0</td>\n",
       "      <td>45.11</td>\n",
       "      <td>24.20</td>\n",
       "    </tr>\n",
       "    <tr>\n",
       "      <th>3</th>\n",
       "      <td>Andorra</td>\n",
       "      <td>AND</td>\n",
       "      <td>NaN</td>\n",
       "      <td>7.1</td>\n",
       "      <td>7.1</td>\n",
       "      <td>7.1</td>\n",
       "      <td>7.1</td>\n",
       "      <td>14.3</td>\n",
       "      <td>14.3</td>\n",
       "      <td>14.3</td>\n",
       "      <td>...</td>\n",
       "      <td>NaN</td>\n",
       "      <td>32.326333</td>\n",
       "      <td>Constitutional Monarchy</td>\n",
       "      <td>Christians</td>\n",
       "      <td>152.1</td>\n",
       "      <td>4.05</td>\n",
       "      <td>19000.0</td>\n",
       "      <td>100.0</td>\n",
       "      <td>8.71</td>\n",
       "      <td>6.25</td>\n",
       "    </tr>\n",
       "    <tr>\n",
       "      <th>4</th>\n",
       "      <td>United Arab Emirates</td>\n",
       "      <td>ARE</td>\n",
       "      <td>0.0</td>\n",
       "      <td>0.0</td>\n",
       "      <td>0.0</td>\n",
       "      <td>0.0</td>\n",
       "      <td>0.0</td>\n",
       "      <td>0.0</td>\n",
       "      <td>0.0</td>\n",
       "      <td>0.0</td>\n",
       "      <td>...</td>\n",
       "      <td>NaN</td>\n",
       "      <td>31.739333</td>\n",
       "      <td>Absolute Monarchy</td>\n",
       "      <td>Muslims</td>\n",
       "      <td>31.4</td>\n",
       "      <td>14.51</td>\n",
       "      <td>23200.0</td>\n",
       "      <td>77.9</td>\n",
       "      <td>18.96</td>\n",
       "      <td>4.40</td>\n",
       "    </tr>\n",
       "    <tr>\n",
       "      <th>6</th>\n",
       "      <td>Armenia</td>\n",
       "      <td>ARM</td>\n",
       "      <td>35.6</td>\n",
       "      <td>6.3</td>\n",
       "      <td>6.3</td>\n",
       "      <td>3.1</td>\n",
       "      <td>3.1</td>\n",
       "      <td>3.1</td>\n",
       "      <td>3.1</td>\n",
       "      <td>4.6</td>\n",
       "      <td>...</td>\n",
       "      <td>NaN</td>\n",
       "      <td>29.779333</td>\n",
       "      <td>Republic</td>\n",
       "      <td>Christians</td>\n",
       "      <td>99.9</td>\n",
       "      <td>23.28</td>\n",
       "      <td>3500.0</td>\n",
       "      <td>98.6</td>\n",
       "      <td>12.07</td>\n",
       "      <td>8.23</td>\n",
       "    </tr>\n",
       "  </tbody>\n",
       "</table>\n",
       "<p>5 rows × 53 columns</p>\n",
       "</div>"
      ],
      "text/plain": [
       "                Country Country Code  1990_P  1997_P  1998_P  1999_P  2000_P  \\\n",
       "0           Afghanistan          AFG     3.7     NaN     NaN     NaN     NaN   \n",
       "1                Angola          AGO    14.5     9.5    15.5    15.5    15.5   \n",
       "3               Andorra          AND     NaN     7.1     7.1     7.1     7.1   \n",
       "4  United Arab Emirates          ARE     0.0     0.0     0.0     0.0     0.0   \n",
       "6               Armenia          ARM    35.6     6.3     6.3     3.1     3.1   \n",
       "\n",
       "   2001_P  2002_P  2003_P    ...      2016_M  latest_value_M  \\\n",
       "0     NaN     NaN     NaN    ...         NaN       32.168667   \n",
       "1    15.5    15.5    15.5    ...         NaN       32.326333   \n",
       "3    14.3    14.3    14.3    ...         NaN       32.326333   \n",
       "4     0.0     0.0     0.0    ...         NaN       31.739333   \n",
       "6     3.1     3.1     4.6    ...         NaN       29.779333   \n",
       "\n",
       "           Government Type    Religion  Pop. Density (per sq. mi.)  \\\n",
       "0                 Republic     Muslims                        48.0   \n",
       "1                 Republic  Christians                         9.7   \n",
       "3  Constitutional Monarchy  Christians                       152.1   \n",
       "4        Absolute Monarchy     Muslims                        31.4   \n",
       "6                 Republic  Christians                        99.9   \n",
       "\n",
       "   Infant mortality (per 1000 births)  GDP ($ per capita)  Literacy (%)  \\\n",
       "0                              163.07               700.0          36.0   \n",
       "1                              191.19              1900.0          42.0   \n",
       "3                                4.05             19000.0         100.0   \n",
       "4                               14.51             23200.0          77.9   \n",
       "6                               23.28              3500.0          98.6   \n",
       "\n",
       "   Birthrate  Deathrate  \n",
       "0      46.60      20.34  \n",
       "1      45.11      24.20  \n",
       "3       8.71       6.25  \n",
       "4      18.96       4.40  \n",
       "6      12.07       8.23  \n",
       "\n",
       "[5 rows x 53 columns]"
      ]
     },
     "execution_count": 85,
     "metadata": {},
     "output_type": "execute_result"
    }
   ],
   "source": [
    "unknown_manag.head()"
   ]
  },
  {
   "cell_type": "code",
   "execution_count": 86,
   "metadata": {},
   "outputs": [
    {
     "data": {
      "text/plain": [
       "(28.761333333333333, 33.120333333333335)"
      ]
     },
     "execution_count": 86,
     "metadata": {},
     "output_type": "execute_result"
    }
   ],
   "source": [
    "(unknown_manag[\"latest_value_M\"].min(), unknown_manag[\"latest_value_M\"].max())"
   ]
  },
  {
   "cell_type": "markdown",
   "metadata": {},
   "source": [
    "As expected, our predictions were affected by the small sample size. This resulted in a narrow range of predictions which is not realistic. "
   ]
  },
  {
   "cell_type": "markdown",
   "metadata": {},
   "source": [
    "**How well can we predict a country's literacy percentage using the proportion of women in parliament?**"
   ]
  },
  {
   "cell_type": "code",
   "execution_count": 87,
   "metadata": {},
   "outputs": [
    {
     "data": {
      "text/plain": [
       "5.2960611236961679"
      ]
     },
     "execution_count": 87,
     "metadata": {},
     "output_type": "execute_result"
    }
   ],
   "source": [
    "features = ['2008_P', '2009_P', '2010_P', '2011_P', '2012_P', '2013_P',\n",
    "       '2014_P', '2015_P', '2016_P', '2017_P', '2018_P']\n",
    "\n",
    "label_features = features\n",
    "label_features.append(\"Literacy (%)\")\n",
    "\n",
    "final_clean = final[label_features].dropna()\n",
    "y_train = final_clean[\"Literacy (%)\"]\n",
    "X_train = final_clean[features]\n",
    "\n",
    "scaler = preprocessing.StandardScaler()\n",
    "scaler.fit(X_train)\n",
    "X_train_sc = scaler.transform(X_train)\n",
    "\n",
    "model = KNeighborsRegressor(n_neighbors=3)\n",
    "model.fit(X_train_sc, y_train)\n",
    "\n",
    "pipeline = Pipeline([(\"scaler\", scaler), (\"fit\", model)])\n",
    "scores = cross_val_score(pipeline, X_train, y_train, cv=10, \n",
    "                         scoring=\"neg_mean_squared_error\")\n",
    "rmse = np.sqrt(np.mean(-scores))\n",
    "rmse"
   ]
  },
  {
   "cell_type": "markdown",
   "metadata": {},
   "source": [
    "Above we caluclated the validation rmse for predicting the literacy rate of a country based upon the proportion of women in that country's government. The rmse was a value of 5.29. This means that on average, the difference between the actual literacy rate of the country and the predicted literacy rate was 5.29%. "
   ]
  }
 ],
 "metadata": {
  "kernelspec": {
   "display_name": "Python 3",
   "language": "python",
   "name": "python3"
  },
  "language_info": {
   "codemirror_mode": {
    "name": "ipython",
    "version": 3
   },
   "file_extension": ".py",
   "mimetype": "text/x-python",
   "name": "python",
   "nbconvert_exporter": "python",
   "pygments_lexer": "ipython3",
   "version": "3.7.3"
  }
 },
 "nbformat": 4,
 "nbformat_minor": 2
}
